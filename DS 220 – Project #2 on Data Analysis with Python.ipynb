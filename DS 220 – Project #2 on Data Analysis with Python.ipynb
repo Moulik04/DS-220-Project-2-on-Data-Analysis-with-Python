{
  "nbformat": 4,
  "nbformat_minor": 0,
  "metadata": {
    "colab": {
      "provenance": [],
      "toc_visible": true
    },
    "kernelspec": {
      "name": "python3",
      "display_name": "Python 3"
    },
    "language_info": {
      "name": "python"
    }
  },
  "cells": [
    {
      "cell_type": "markdown",
      "source": [
        "# **Creating DataFrames**\n",
        "\n",
        "We will create a DataFrame object from a dataset in a CSV file using the read_csv method on the pandas - pd - object. While the read_csv method can read dataset directly from a web URL, it's best to download to your computer first to ensure the data is persisted.\n",
        "\n",
        "# **About the Data**\n",
        "\n",
        "We will use the dataset on 'Lionel Messi | All Club Goals' available at: https://www.kaggle.com/datasets/azminetoushikwasi/-lionel-messi-all-club-goals\n",
        "\n",
        "# **Imports**"
      ],
      "metadata": {
        "id": "ugdWHZLr4jm-"
      }
    },
    {
      "cell_type": "code",
      "execution_count": 2,
      "metadata": {
        "id": "bcUbbjXV4UDf"
      },
      "outputs": [],
      "source": [
        "import datetime\n",
        "import numpy as np\n",
        "import pandas as pd"
      ]
    },
    {
      "cell_type": "markdown",
      "source": [
        "### Finding information on the file before reading it in\n",
        "Before attempting to read in a file, we can use the command line to see important information about the file that may determine how we read it in. We can run command line code from Jupyter Notebooks (thanks to IPython) by using ! before the code.\n",
        "\n",
        "### Number of lines (row count)\n",
        "\n",
        "For example, we can find out how many lines are in the file by using the wc utility (word count) and counting lines in the file (-l). Run the cell below to confirm the file has 704 lines:"
      ],
      "metadata": {
        "id": "ABnTzc_L6U49"
      }
    },
    {
      "cell_type": "code",
      "source": [
        "!wc -l data.csv"
      ],
      "metadata": {
        "id": "d896aKgl7o1H"
      },
      "execution_count": null,
      "outputs": []
    },
    {
      "cell_type": "markdown",
      "source": [
        "### Reading in the file\n",
        "Our file is small in size, has headers in the first row, and is comma-separated, so we don't need to provide any additional arguments to read in the file with `pd.read_csv()`.\n",
        "To read data from file we can use `pd.read_csv()` and for other delimited files, such as tab (\\t), we can use the `read_csv()` function with the sep argument equal to the delimiter. We can use the `read_excel()` function for Excel files, the `read_json()` function for JSON (JavaScript Object Notation) files."
      ],
      "metadata": {
        "id": "TX5ph3QC74lL"
      }
    },
    {
      "cell_type": "code",
      "source": [
        "import pandas as pd\n",
        "df = pd.read_csv('data.csv')"
      ],
      "metadata": {
        "id": "hhFV6cxN8j49"
      },
      "execution_count": 4,
      "outputs": []
    },
    {
      "cell_type": "markdown",
      "source": [
        "Let's review summary statistics for the 'Lionel Messi | All Club Goals' dataframe - df:  use `describe()`."
      ],
      "metadata": {
        "id": "3lE4sdm288nq"
      }
    },
    {
      "cell_type": "code",
      "source": [
        "df.describe()"
      ],
      "metadata": {
        "id": "lsn6WSiu9dOp"
      },
      "execution_count": null,
      "outputs": []
    },
    {
      "cell_type": "markdown",
      "source": [
        "`df.describe()` does not really tell us much.  The `info()` method provides more information as you can check by running the code cell below."
      ],
      "metadata": {
        "id": "uiVUvSc99uT9"
      }
    },
    {
      "cell_type": "code",
      "source": [
        "df.info()"
      ],
      "metadata": {
        "id": "8UPPUedz9vRP"
      },
      "execution_count": null,
      "outputs": []
    },
    {
      "cell_type": "markdown",
      "source": [
        "We can use the dataframe `head()` or `tail()` method to view some actual entries. Without a numeric parameter, both methods return 5 entries!\n",
        "\n",
        "**Run the next 2 code cells below to see the first 10 and the last 10 entries**"
      ],
      "metadata": {
        "id": "LwFqMpC0978m"
      }
    },
    {
      "cell_type": "code",
      "source": [
        "df.head(10)"
      ],
      "metadata": {
        "id": "YBF4dXIz-Bl2"
      },
      "execution_count": null,
      "outputs": []
    },
    {
      "cell_type": "code",
      "source": [
        "df.tail(10)"
      ],
      "metadata": {
        "id": "0TcUcmJ_-Bwk"
      },
      "execution_count": null,
      "outputs": []
    },
    {
      "cell_type": "markdown",
      "source": [
        "# **Querying & Locating Data in the DataFrame**\n",
        "1. One of the most useful tasks in pandas is locating data that satisfies desired criteria. For example, we can locate in which seasons and year did Messi score the most goals for his clubs. Witness the evolution of Messi's goal-scoring prowess from his early years to the peak of his career. Identify the seasons where he reached new heights."
      ],
      "metadata": {
        "id": "3h3Wht-6-f44"
      }
    },
    {
      "cell_type": "code",
      "source": [
        "goals_per_season = df['Season'].value_counts()\n",
        "\n",
        "most_goals_season = goals_per_season.idxmax()\n",
        "\n",
        "most_goals_count = goals_per_season.max()\n",
        "\n",
        "print(f\"Season with the most goals: {most_goals_season}\")\n",
        "print(f\"Number of goals in the season: {most_goals_count}\")\n",
        "\n",
        "df['Year'] = pd.to_datetime(df['Date'], errors='coerce').dt.year\n",
        "\n",
        "goals_per_year = df['Year'].value_counts()\n",
        "\n",
        "most_goals_year = goals_per_year.idxmax()\n",
        "\n",
        "most_goals_count = goals_per_year.max()\n",
        "\n",
        "print(f\"Year with the most goals: {most_goals_year}\")\n",
        "print(f\"Number of goals in the year: {most_goals_count}\")"
      ],
      "metadata": {
        "id": "Jbkeehs-_n6K"
      },
      "execution_count": null,
      "outputs": []
    },
    {
      "cell_type": "markdown",
      "source": [
        "**Lionel Messi holds the record of most goals recorded in a single season and in a year. CRAZYYY!!!**"
      ],
      "metadata": {
        "id": "ArOqMGKtLRWd"
      }
    },
    {
      "cell_type": "markdown",
      "source": [
        "2. We can now examine how Messi's goals are distributed across the clubs he played for."
      ],
      "metadata": {
        "id": "q77-waFDBpPg"
      }
    },
    {
      "cell_type": "code",
      "source": [
        "goals_per_club = df.groupby('Club').size()\n",
        "\n",
        "print(\"Total number of goals scored per club:\")\n",
        "print(goals_per_club)"
      ],
      "metadata": {
        "id": "KEVh9wS-CXNA"
      },
      "execution_count": null,
      "outputs": []
    },
    {
      "cell_type": "markdown",
      "source": [
        "**He has also scored the most goals for FC Barcelona and La Liga.**"
      ],
      "metadata": {
        "id": "pjuqw2LiNJ2S"
      }
    },
    {
      "cell_type": "markdown",
      "source": [
        "3. We should have done this as the first query but we are doing it now, let's find out the total number of goals scored by Lionel Messi at club level."
      ],
      "metadata": {
        "id": "haqnKORAC_8B"
      }
    },
    {
      "cell_type": "code",
      "source": [
        "total_goals = len(df)\n",
        "\n",
        "print(\"Total number of goals scored by Lionel Messi at club level:\")\n",
        "print(total_goals)"
      ],
      "metadata": {
        "id": "76RgS6WVDXkV"
      },
      "execution_count": null,
      "outputs": []
    },
    {
      "cell_type": "markdown",
      "source": [
        "4. Now, let's calculate top 10 opponents Lionel Messi has scored the most goals against."
      ],
      "metadata": {
        "id": "-SUy012NDnk1"
      }
    },
    {
      "cell_type": "code",
      "source": [
        "goals_per_opponent = df['Opponent'].value_counts()\n",
        "\n",
        "top_10_opponents = goals_per_opponent.head(10)\n",
        "\n",
        "print(\"Top 10 opponents Messi has scored the most goals against:\")\n",
        "print(top_10_opponents)"
      ],
      "metadata": {
        "id": "LzxrWU_xD2ok"
      },
      "execution_count": null,
      "outputs": []
    },
    {
      "cell_type": "markdown",
      "source": [
        "5. Are you eager to know how many left-footed goals, right-footed goals, headers, direct free kicks, penalties, etc, Messi has scored? Let's find out."
      ],
      "metadata": {
        "id": "HRqNA2LmEKT8"
      }
    },
    {
      "cell_type": "code",
      "source": [
        "goals_per_type = df['Type'].value_counts()\n",
        "\n",
        "print(\"Goals scored by different types:\")\n",
        "print(goals_per_type)"
      ],
      "metadata": {
        "id": "PEOF0aCyEedy"
      },
      "execution_count": null,
      "outputs": []
    },
    {
      "cell_type": "markdown",
      "source": [
        "**His finishing is mesmerizing, especially FreeKicks and SoloRuns, you would come off your seats when you watch them.**"
      ],
      "metadata": {
        "id": "ZAGH3alqN6MY"
      }
    },
    {
      "cell_type": "markdown",
      "source": [
        "6. We should highlight Messi's contributions in crucial competitions like in UEFA Champions League, domestic cups, and other pivotal matches."
      ],
      "metadata": {
        "id": "l1sYxgf0FRye"
      }
    },
    {
      "cell_type": "code",
      "source": [
        "specific_competitions = ['UEFA Champions League', 'Copa del Rey', 'Supercopa', 'FIFA Club World Cup', 'UEFA Super Cup', ]\n",
        "\n",
        "specific_competitions_goals = df[df['Competition'].isin(specific_competitions)]\n",
        "\n",
        "total_goals_by_competition = specific_competitions_goals.groupby('Competition').size().sort_values(ascending=False)\n",
        "\n",
        "print(\"Total goals scored by Messi in key competitions:\")\n",
        "print(total_goals_by_competition)"
      ],
      "metadata": {
        "id": "h7gXD87pF4pC"
      },
      "execution_count": null,
      "outputs": []
    },
    {
      "cell_type": "markdown",
      "source": [
        "7. I am very exited to find out how many goals have Leo scored in club finals."
      ],
      "metadata": {
        "id": "dDBwTFWbI0Tf"
      }
    },
    {
      "cell_type": "code",
      "source": [
        "df['Matchday'] = df['Matchday'].str.lower()\n",
        "\n",
        "final_match_day = 'final'\n",
        "\n",
        "final_match_day_goals = df[df['Matchday'] == final_match_day]\n",
        "\n",
        "total_goals_by_competition = final_match_day_goals.groupby('Competition').size().sort_values(ascending=False)\n",
        "\n",
        "print(f\"Goals scored by Messi in club finals:\")\n",
        "print(total_goals_by_competition)\n",
        "\n",
        "print(\"\\nTotal goals scored by Leo in club finals:\")\n",
        "print(total_goals_by_competition.sum())"
      ],
      "metadata": {
        "id": "ywFSi22NI-8O"
      },
      "execution_count": null,
      "outputs": []
    },
    {
      "cell_type": "markdown",
      "source": [
        "**Leo Messi also holds the record of most finals played and most number of goals scored in a final. He cannot stop winning and scoring.**"
      ],
      "metadata": {
        "id": "bWXynDbZO0Kl"
      }
    },
    {
      "cell_type": "markdown",
      "source": [
        "8. Let's see who were the main assist giver to Messi."
      ],
      "metadata": {
        "id": "Py0wrdyHPI0p"
      }
    },
    {
      "cell_type": "code",
      "source": [
        "top_10_assist_providers = df['Goal_assist'].value_counts().head(10)\n",
        "\n",
        "print(\"Top 10 assist providers to Messi:\")\n",
        "print(top_10_assist_providers)"
      ],
      "metadata": {
        "id": "dd_RjoytPZIV"
      },
      "execution_count": null,
      "outputs": []
    },
    {
      "cell_type": "markdown",
      "source": [
        "**All the names above helped Leo to become what he is today.**"
      ],
      "metadata": {
        "id": "mYCFwlNMP51R"
      }
    },
    {
      "cell_type": "markdown",
      "source": [
        "# **THANK YOU**"
      ],
      "metadata": {
        "id": "5m7LBNcIQanQ"
      }
    }
  ]
}